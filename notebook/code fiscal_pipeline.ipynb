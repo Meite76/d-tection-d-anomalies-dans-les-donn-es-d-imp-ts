{
 "cells": [
  {
   "cell_type": "code",
   "execution_count": 37,
   "id": "4b6bd82c",
   "metadata": {},
   "outputs": [],
   "source": [
    "from faker import Faker\n",
    "import pandas as pd\n",
    "import numpy as np\n",
    "import random\n",
    "from sqlalchemy import create_engine ,text\n",
    "import os\n",
    "from sqlalchemy import text\n"
   ]
  },
  {
   "cell_type": "code",
   "execution_count": 13,
   "id": "d5be21bc",
   "metadata": {},
   "outputs": [],
   "source": [
    "# 📊 Générateur de données simulées fiscales\n",
    "fake = Faker()\n",
    "\n",
    "def generer_donnees_fiscales(n=10000, anomalie_rate=0.1):\n",
    "    data = []\n",
    "    for _ in range(n):\n",
    "        revenu = random.randint(20000, 200000)\n",
    "        revenu_declare = revenu * random.uniform(0.3, 0.8) if random.random() < anomalie_rate else revenu\n",
    "        impot = round(revenu_declare * 0.25, 2)\n",
    "        depenses = random.randint(5000, 70000)\n",
    "        charges = round(depenses * random.uniform(0.1, 0.4), 2)\n",
    "        data.append({\n",
    "            'id_contribuable': fake.uuid4(),\n",
    "            'nom': fake.last_name(),\n",
    "            'prenom': fake.first_name(),\n",
    "            'region': fake.city(),\n",
    "            'revenu_annuel': revenu,\n",
    "            'revenu_declare': revenu_declare,\n",
    "            'impot_declare': impot,\n",
    "            'depenses': depenses,\n",
    "            'charges': charges,\n",
    "            'type_revenu': random.choice(['salaire', 'indépendant', 'patrimoine']),\n",
    "        })\n",
    "    return pd.DataFrame(data)\n",
    "\n",
    "# Générer un DataFrame\n",
    "df_fisc = generer_donnees_fiscales(n=10000)\n",
    "\n"
   ]
  },
  {
   "cell_type": "code",
   "execution_count": 16,
   "id": "7387476e",
   "metadata": {},
   "outputs": [
    {
     "data": {
      "text/plain": [
       "(10000, 10)"
      ]
     },
     "execution_count": 16,
     "metadata": {},
     "output_type": "execute_result"
    }
   ],
   "source": [
    "df_fisc.shape"
   ]
  },
  {
   "cell_type": "code",
   "execution_count": 19,
   "id": "7e931186",
   "metadata": {},
   "outputs": [
    {
     "name": "stdout",
     "output_type": "stream",
     "text": [
      "[✅] Données fiscales sauvegardées dans : C:\\Users\\POATAN\\Desktop\\détection d’anomalies dans les données d’impôts\\data\\donnees_fiscales.csv\n"
     ]
    }
   ],
   "source": [
    "\n",
    "# 📁 Chemin absolu du dossier\n",
    "chemin_dossier = r\"C:\\Users\\POATAN\\Desktop\\détection d’anomalies dans les données d’impôts\\data\"\n",
    "\n",
    "# 📁 Créer le dossier s'il n'existe pas\n",
    "os.makedirs(chemin_dossier, exist_ok=True)\n",
    "\n",
    "# 💾 Chemin complet du fichier CSV\n",
    "fichier_csv = os.path.join(chemin_dossier, \"donnees_fiscales.csv\")\n",
    "\n",
    "# 📝 Enregistrement du DataFrame\n",
    "df_fisc.to_csv(fichier_csv, index=False)\n",
    "\n",
    "print(f\"[✅] Données fiscales sauvegardées dans : {fichier_csv}\")\n"
   ]
  },
  {
   "cell_type": "code",
   "execution_count": 38,
   "id": "a83108c1",
   "metadata": {},
   "outputs": [
    {
     "name": "stdout",
     "output_type": "stream",
     "text": [
      "[✅] Connexion PostgreSQL établie avec SQLAlchemy\n"
     ]
    }
   ],
   "source": [
    "# 📡 Connexion PostgreSQL (via SQLAlchemy)\n",
    "DB_USER = 'postgres'\n",
    "DB_PASSWORD = 'password'\n",
    "DB_HOST = 'localhost'\n",
    "DB_PORT = '5432'\n",
    "DB_NAME = 'fiscal_db'\n",
    "\n",
    "DATABASE_URL = f\"postgresql://{DB_USER}:{DB_PASSWORD}@{DB_HOST}:{DB_PORT}/{DB_NAME}\"\n",
    "engine = create_engine(DATABASE_URL)\n",
    "\n",
    "print(\"[✅] Connexion PostgreSQL établie avec SQLAlchemy\")\n"
   ]
  },
  {
   "cell_type": "code",
   "execution_count": 25,
   "id": "f1452c70",
   "metadata": {},
   "outputs": [
    {
     "name": "stdout",
     "output_type": "stream",
     "text": [
      "[✅] Table 'donnees_fiscales_raw' créée et données insérées dans PostgreSQL\n"
     ]
    }
   ],
   "source": [
    "# 📥 Charger les données dans PostgreSQL\n",
    "df_loaded = pd.read_csv(r\"C:\\Users\\POATAN\\Desktop\\détection d’anomalies dans les données d’impôts\\data\\donnees_fiscales.csv\")\n",
    "\n",
    "df_loaded.to_sql(\n",
    "    name='donnees_fiscales_raw',\n",
    "    con=engine,\n",
    "    if_exists='replace',\n",
    "    index=False\n",
    ")\n",
    "\n",
    "print(\"[✅] Table 'donnees_fiscales_raw' créée et données insérées dans PostgreSQL\")\n"
   ]
  },
  {
   "cell_type": "code",
   "execution_count": 32,
   "id": "fab6bc9f",
   "metadata": {},
   "outputs": [
    {
     "name": "stdout",
     "output_type": "stream",
     "text": [
      "('6198731a-b039-4f01-8a14-1155b40e2184', 'Robinson', 'Amanda', 'Nicoleton', 196550, 196550.0, 49137.5, 50348, 7046.79, 'indépendant')\n",
      "('c0ec020e-96d8-45e6-977a-b4ea07bbc047', 'Andrews', 'Kenneth', 'East Adrian', 170746, 170746.0, 42686.5, 35501, 8175.9, 'salaire')\n",
      "('33f70698-6c1d-4fa7-a59b-523cc51a1cce', 'Phillips', 'Christina', 'Port Jeanetteburgh', 91071, 91071.0, 22767.75, 22864, 3687.22, 'patrimoine')\n",
      "('31c21c2d-5530-4ac9-b145-4c659c0bb82f', 'Wise', 'Francisco', 'Perrybury', 85316, 85316.0, 21329.0, 25892, 6476.58, 'salaire')\n",
      "('e2cac734-f593-4f41-9c50-a81400968d71', 'Clayton', 'Laura', 'Crystalbury', 196606, 196606.0, 49151.5, 10272, 3351.55, 'salaire')\n"
     ]
    }
   ],
   "source": [
    "with engine.connect() as conn:\n",
    "    result = conn.execute(text(\"SELECT * FROM donnees_fiscales_raw LIMIT 5\"))\n",
    "    for row in result:\n",
    "        print(row)\n"
   ]
  },
  {
   "cell_type": "code",
   "execution_count": null,
   "id": "66ca6c1c",
   "metadata": {},
   "outputs": [
    {
     "name": "stdout",
     "output_type": "stream",
     "text": [
      "Anomalies détectées : 1000 sur 10000\n"
     ]
    },
    {
     "data": {
      "text/html": [
       "<div>\n",
       "<style scoped>\n",
       "    .dataframe tbody tr th:only-of-type {\n",
       "        vertical-align: middle;\n",
       "    }\n",
       "\n",
       "    .dataframe tbody tr th {\n",
       "        vertical-align: top;\n",
       "    }\n",
       "\n",
       "    .dataframe thead th {\n",
       "        text-align: right;\n",
       "    }\n",
       "</style>\n",
       "<table border=\"1\" class=\"dataframe\">\n",
       "  <thead>\n",
       "    <tr style=\"text-align: right;\">\n",
       "      <th></th>\n",
       "      <th>id_contribuable</th>\n",
       "      <th>nom</th>\n",
       "      <th>prenom</th>\n",
       "      <th>region</th>\n",
       "      <th>revenu_annuel</th>\n",
       "      <th>revenu_declare</th>\n",
       "      <th>impot_declare</th>\n",
       "      <th>depenses</th>\n",
       "      <th>charges</th>\n",
       "      <th>type_revenu</th>\n",
       "      <th>anomaly_iso</th>\n",
       "      <th>is_anomaly</th>\n",
       "    </tr>\n",
       "  </thead>\n",
       "  <tbody>\n",
       "    <tr>\n",
       "      <th>0</th>\n",
       "      <td>6198731a-b039-4f01-8a14-1155b40e2184</td>\n",
       "      <td>robinson</td>\n",
       "      <td>amanda</td>\n",
       "      <td>Nicoleton</td>\n",
       "      <td>196550</td>\n",
       "      <td>196550.000000</td>\n",
       "      <td>49137.50</td>\n",
       "      <td>50348</td>\n",
       "      <td>7046.79</td>\n",
       "      <td>indépendant</td>\n",
       "      <td>-1</td>\n",
       "      <td>True</td>\n",
       "    </tr>\n",
       "    <tr>\n",
       "      <th>4</th>\n",
       "      <td>e2cac734-f593-4f41-9c50-a81400968d71</td>\n",
       "      <td>clayton</td>\n",
       "      <td>laura</td>\n",
       "      <td>Crystalbury</td>\n",
       "      <td>196606</td>\n",
       "      <td>196606.000000</td>\n",
       "      <td>49151.50</td>\n",
       "      <td>10272</td>\n",
       "      <td>3351.55</td>\n",
       "      <td>salaire</td>\n",
       "      <td>-1</td>\n",
       "      <td>True</td>\n",
       "    </tr>\n",
       "    <tr>\n",
       "      <th>9</th>\n",
       "      <td>6743eabc-3503-4f5d-b394-de7bd3f166d6</td>\n",
       "      <td>booker</td>\n",
       "      <td>phyllis</td>\n",
       "      <td>Hamiltonland</td>\n",
       "      <td>142947</td>\n",
       "      <td>47409.447051</td>\n",
       "      <td>11852.36</td>\n",
       "      <td>17880</td>\n",
       "      <td>6138.58</td>\n",
       "      <td>indépendant</td>\n",
       "      <td>-1</td>\n",
       "      <td>True</td>\n",
       "    </tr>\n",
       "    <tr>\n",
       "      <th>10</th>\n",
       "      <td>4b137b64-d6d8-40bf-b442-c67219ffcb87</td>\n",
       "      <td>hunt</td>\n",
       "      <td>brandy</td>\n",
       "      <td>West Grace</td>\n",
       "      <td>193665</td>\n",
       "      <td>193665.000000</td>\n",
       "      <td>48416.25</td>\n",
       "      <td>17103</td>\n",
       "      <td>2218.28</td>\n",
       "      <td>salaire</td>\n",
       "      <td>-1</td>\n",
       "      <td>True</td>\n",
       "    </tr>\n",
       "    <tr>\n",
       "      <th>23</th>\n",
       "      <td>1b98e772-ebba-40da-ad97-78e776c6b206</td>\n",
       "      <td>wilson</td>\n",
       "      <td>daniel</td>\n",
       "      <td>Madisonmouth</td>\n",
       "      <td>197619</td>\n",
       "      <td>197619.000000</td>\n",
       "      <td>49404.75</td>\n",
       "      <td>50518</td>\n",
       "      <td>14455.68</td>\n",
       "      <td>patrimoine</td>\n",
       "      <td>-1</td>\n",
       "      <td>True</td>\n",
       "    </tr>\n",
       "  </tbody>\n",
       "</table>\n",
       "</div>"
      ],
      "text/plain": [
       "                         id_contribuable       nom   prenom        region  \\\n",
       "0   6198731a-b039-4f01-8a14-1155b40e2184  robinson   amanda     Nicoleton   \n",
       "4   e2cac734-f593-4f41-9c50-a81400968d71   clayton    laura   Crystalbury   \n",
       "9   6743eabc-3503-4f5d-b394-de7bd3f166d6    booker  phyllis  Hamiltonland   \n",
       "10  4b137b64-d6d8-40bf-b442-c67219ffcb87      hunt   brandy    West Grace   \n",
       "23  1b98e772-ebba-40da-ad97-78e776c6b206    wilson   daniel  Madisonmouth   \n",
       "\n",
       "    revenu_annuel  revenu_declare  impot_declare  depenses   charges  \\\n",
       "0          196550   196550.000000       49137.50     50348   7046.79   \n",
       "4          196606   196606.000000       49151.50     10272   3351.55   \n",
       "9          142947    47409.447051       11852.36     17880   6138.58   \n",
       "10         193665   193665.000000       48416.25     17103   2218.28   \n",
       "23         197619   197619.000000       49404.75     50518  14455.68   \n",
       "\n",
       "    type_revenu  anomaly_iso  is_anomaly  \n",
       "0   indépendant           -1        True  \n",
       "4       salaire           -1        True  \n",
       "9   indépendant           -1        True  \n",
       "10      salaire           -1        True  \n",
       "23   patrimoine           -1        True  "
      ]
     },
     "execution_count": 44,
     "metadata": {},
     "output_type": "execute_result"
    }
   ],
   "source": [
    "from sklearn.ensemble import IsolationForest\n",
    "\n",
    "# Charger les données depuis la vue DBT\n",
    "query = \"SELECT * FROM stg_donnees_fiscales\"\n",
    "df_stg = pd.read_sql(query, con=engine)\n",
    "\n",
    "# Sélectionner colonnes numériques pour ML\n",
    "features = ['revenu_annuel', 'revenu_declare', 'impot_declare', 'depenses', 'charges']\n",
    "X = df_stg[features]\n",
    "\n",
    "# Entraîner Isolation Forest\n",
    "iso_forest = IsolationForest(contamination=0.1, random_state=42)\n",
    "df_stg['anomaly_iso'] = iso_forest.fit_predict(X)\n",
    "\n",
    "# Anomalies détectées = -1\n",
    "df_stg['is_anomaly'] = df_stg['anomaly_iso'] == -1\n",
    "\n",
    "# Résumé rapide\n",
    "print(f\"Anomalies détectées : {df_stg['is_anomaly'].sum()} sur {len(df_stg)}\")\n",
    "\n",
    "# Afficher quelques exemples\n",
    "df_stg[df_stg['is_anomaly']].head()\n"
   ]
  },
  {
   "cell_type": "code",
   "execution_count": 47,
   "id": "f60c7860",
   "metadata": {},
   "outputs": [
    {
     "ename": "ImportError",
     "evalue": "Unable to find a usable engine; tried using: 'pyarrow', 'fastparquet'.\nA suitable version of pyarrow or fastparquet is required for parquet support.\nTrying to import the above resulted in these errors:\n - Missing optional dependency 'pyarrow'. pyarrow is required for parquet support. Use pip or conda to install pyarrow.\n - Missing optional dependency 'fastparquet'. fastparquet is required for parquet support. Use pip or conda to install fastparquet.",
     "output_type": "error",
     "traceback": [
      "\u001b[1;31m---------------------------------------------------------------------------\u001b[0m",
      "\u001b[1;31mImportError\u001b[0m                               Traceback (most recent call last)",
      "Cell \u001b[1;32mIn[47], line 12\u001b[0m\n\u001b[0;32m     10\u001b[0m \u001b[38;5;66;03m# Sauvegarde locale parquet\u001b[39;00m\n\u001b[0;32m     11\u001b[0m parquet_file \u001b[38;5;241m=\u001b[39m \u001b[38;5;124m\"\u001b[39m\u001b[38;5;124mdata/anomalies.parquet\u001b[39m\u001b[38;5;124m\"\u001b[39m\n\u001b[1;32m---> 12\u001b[0m \u001b[43mdf_stg\u001b[49m\u001b[38;5;241;43m.\u001b[39;49m\u001b[43mto_parquet\u001b[49m\u001b[43m(\u001b[49m\u001b[43mparquet_file\u001b[49m\u001b[43m,\u001b[49m\u001b[43m \u001b[49m\u001b[43mindex\u001b[49m\u001b[38;5;241;43m=\u001b[39;49m\u001b[38;5;28;43;01mFalse\u001b[39;49;00m\u001b[43m)\u001b[49m\n\u001b[0;32m     13\u001b[0m \u001b[38;5;28mprint\u001b[39m(\u001b[38;5;124mf\u001b[39m\u001b[38;5;124m\"\u001b[39m\u001b[38;5;124m[✅] Fichier parquet sauvegardé localement : \u001b[39m\u001b[38;5;132;01m{\u001b[39;00mparquet_file\u001b[38;5;132;01m}\u001b[39;00m\u001b[38;5;124m\"\u001b[39m)\n\u001b[0;32m     15\u001b[0m \u001b[38;5;66;03m# Connexion S3 compatible MinIO\u001b[39;00m\n",
      "File \u001b[1;32mc:\\Users\\POATAN\\Desktop\\détection d’anomalies dans les données d’impôts\\virtual\\lib\\site-packages\\pandas\\util\\_decorators.py:333\u001b[0m, in \u001b[0;36mdeprecate_nonkeyword_arguments.<locals>.decorate.<locals>.wrapper\u001b[1;34m(*args, **kwargs)\u001b[0m\n\u001b[0;32m    327\u001b[0m \u001b[38;5;28;01mif\u001b[39;00m \u001b[38;5;28mlen\u001b[39m(args) \u001b[38;5;241m>\u001b[39m num_allow_args:\n\u001b[0;32m    328\u001b[0m     warnings\u001b[38;5;241m.\u001b[39mwarn(\n\u001b[0;32m    329\u001b[0m         msg\u001b[38;5;241m.\u001b[39mformat(arguments\u001b[38;5;241m=\u001b[39m_format_argument_list(allow_args)),\n\u001b[0;32m    330\u001b[0m         \u001b[38;5;167;01mFutureWarning\u001b[39;00m,\n\u001b[0;32m    331\u001b[0m         stacklevel\u001b[38;5;241m=\u001b[39mfind_stack_level(),\n\u001b[0;32m    332\u001b[0m     )\n\u001b[1;32m--> 333\u001b[0m \u001b[38;5;28;01mreturn\u001b[39;00m func(\u001b[38;5;241m*\u001b[39margs, \u001b[38;5;241m*\u001b[39m\u001b[38;5;241m*\u001b[39mkwargs)\n",
      "File \u001b[1;32mc:\\Users\\POATAN\\Desktop\\détection d’anomalies dans les données d’impôts\\virtual\\lib\\site-packages\\pandas\\core\\frame.py:3118\u001b[0m, in \u001b[0;36mDataFrame.to_parquet\u001b[1;34m(self, path, engine, compression, index, partition_cols, storage_options, **kwargs)\u001b[0m\n\u001b[0;32m   3037\u001b[0m \u001b[38;5;250m\u001b[39m\u001b[38;5;124;03m\"\"\"\u001b[39;00m\n\u001b[0;32m   3038\u001b[0m \u001b[38;5;124;03mWrite a DataFrame to the binary parquet format.\u001b[39;00m\n\u001b[0;32m   3039\u001b[0m \n\u001b[1;32m   (...)\u001b[0m\n\u001b[0;32m   3114\u001b[0m \u001b[38;5;124;03m>>> content = f.read()\u001b[39;00m\n\u001b[0;32m   3115\u001b[0m \u001b[38;5;124;03m\"\"\"\u001b[39;00m\n\u001b[0;32m   3116\u001b[0m \u001b[38;5;28;01mfrom\u001b[39;00m\u001b[38;5;250m \u001b[39m\u001b[38;5;21;01mpandas\u001b[39;00m\u001b[38;5;21;01m.\u001b[39;00m\u001b[38;5;21;01mio\u001b[39;00m\u001b[38;5;21;01m.\u001b[39;00m\u001b[38;5;21;01mparquet\u001b[39;00m\u001b[38;5;250m \u001b[39m\u001b[38;5;28;01mimport\u001b[39;00m to_parquet\n\u001b[1;32m-> 3118\u001b[0m \u001b[38;5;28;01mreturn\u001b[39;00m to_parquet(\n\u001b[0;32m   3119\u001b[0m     \u001b[38;5;28mself\u001b[39m,\n\u001b[0;32m   3120\u001b[0m     path,\n\u001b[0;32m   3121\u001b[0m     engine,\n\u001b[0;32m   3122\u001b[0m     compression\u001b[38;5;241m=\u001b[39mcompression,\n\u001b[0;32m   3123\u001b[0m     index\u001b[38;5;241m=\u001b[39mindex,\n\u001b[0;32m   3124\u001b[0m     partition_cols\u001b[38;5;241m=\u001b[39mpartition_cols,\n\u001b[0;32m   3125\u001b[0m     storage_options\u001b[38;5;241m=\u001b[39mstorage_options,\n\u001b[0;32m   3126\u001b[0m     \u001b[38;5;241m*\u001b[39m\u001b[38;5;241m*\u001b[39mkwargs,\n\u001b[0;32m   3127\u001b[0m )\n",
      "File \u001b[1;32mc:\\Users\\POATAN\\Desktop\\détection d’anomalies dans les données d’impôts\\virtual\\lib\\site-packages\\pandas\\io\\parquet.py:478\u001b[0m, in \u001b[0;36mto_parquet\u001b[1;34m(df, path, engine, compression, index, storage_options, partition_cols, filesystem, **kwargs)\u001b[0m\n\u001b[0;32m    476\u001b[0m \u001b[38;5;28;01mif\u001b[39;00m \u001b[38;5;28misinstance\u001b[39m(partition_cols, \u001b[38;5;28mstr\u001b[39m):\n\u001b[0;32m    477\u001b[0m     partition_cols \u001b[38;5;241m=\u001b[39m [partition_cols]\n\u001b[1;32m--> 478\u001b[0m impl \u001b[38;5;241m=\u001b[39m \u001b[43mget_engine\u001b[49m\u001b[43m(\u001b[49m\u001b[43mengine\u001b[49m\u001b[43m)\u001b[49m\n\u001b[0;32m    480\u001b[0m path_or_buf: FilePath \u001b[38;5;241m|\u001b[39m WriteBuffer[\u001b[38;5;28mbytes\u001b[39m] \u001b[38;5;241m=\u001b[39m io\u001b[38;5;241m.\u001b[39mBytesIO() \u001b[38;5;28;01mif\u001b[39;00m path \u001b[38;5;129;01mis\u001b[39;00m \u001b[38;5;28;01mNone\u001b[39;00m \u001b[38;5;28;01melse\u001b[39;00m path\n\u001b[0;32m    482\u001b[0m impl\u001b[38;5;241m.\u001b[39mwrite(\n\u001b[0;32m    483\u001b[0m     df,\n\u001b[0;32m    484\u001b[0m     path_or_buf,\n\u001b[1;32m   (...)\u001b[0m\n\u001b[0;32m    490\u001b[0m     \u001b[38;5;241m*\u001b[39m\u001b[38;5;241m*\u001b[39mkwargs,\n\u001b[0;32m    491\u001b[0m )\n",
      "File \u001b[1;32mc:\\Users\\POATAN\\Desktop\\détection d’anomalies dans les données d’impôts\\virtual\\lib\\site-packages\\pandas\\io\\parquet.py:68\u001b[0m, in \u001b[0;36mget_engine\u001b[1;34m(engine)\u001b[0m\n\u001b[0;32m     65\u001b[0m         \u001b[38;5;28;01mexcept\u001b[39;00m \u001b[38;5;167;01mImportError\u001b[39;00m \u001b[38;5;28;01mas\u001b[39;00m err:\n\u001b[0;32m     66\u001b[0m             error_msgs \u001b[38;5;241m+\u001b[39m\u001b[38;5;241m=\u001b[39m \u001b[38;5;124m\"\u001b[39m\u001b[38;5;130;01m\\n\u001b[39;00m\u001b[38;5;124m - \u001b[39m\u001b[38;5;124m\"\u001b[39m \u001b[38;5;241m+\u001b[39m \u001b[38;5;28mstr\u001b[39m(err)\n\u001b[1;32m---> 68\u001b[0m     \u001b[38;5;28;01mraise\u001b[39;00m \u001b[38;5;167;01mImportError\u001b[39;00m(\n\u001b[0;32m     69\u001b[0m         \u001b[38;5;124m\"\u001b[39m\u001b[38;5;124mUnable to find a usable engine; \u001b[39m\u001b[38;5;124m\"\u001b[39m\n\u001b[0;32m     70\u001b[0m         \u001b[38;5;124m\"\u001b[39m\u001b[38;5;124mtried using: \u001b[39m\u001b[38;5;124m'\u001b[39m\u001b[38;5;124mpyarrow\u001b[39m\u001b[38;5;124m'\u001b[39m\u001b[38;5;124m, \u001b[39m\u001b[38;5;124m'\u001b[39m\u001b[38;5;124mfastparquet\u001b[39m\u001b[38;5;124m'\u001b[39m\u001b[38;5;124m.\u001b[39m\u001b[38;5;130;01m\\n\u001b[39;00m\u001b[38;5;124m\"\u001b[39m\n\u001b[0;32m     71\u001b[0m         \u001b[38;5;124m\"\u001b[39m\u001b[38;5;124mA suitable version of \u001b[39m\u001b[38;5;124m\"\u001b[39m\n\u001b[0;32m     72\u001b[0m         \u001b[38;5;124m\"\u001b[39m\u001b[38;5;124mpyarrow or fastparquet is required for parquet \u001b[39m\u001b[38;5;124m\"\u001b[39m\n\u001b[0;32m     73\u001b[0m         \u001b[38;5;124m\"\u001b[39m\u001b[38;5;124msupport.\u001b[39m\u001b[38;5;130;01m\\n\u001b[39;00m\u001b[38;5;124m\"\u001b[39m\n\u001b[0;32m     74\u001b[0m         \u001b[38;5;124m\"\u001b[39m\u001b[38;5;124mTrying to import the above resulted in these errors:\u001b[39m\u001b[38;5;124m\"\u001b[39m\n\u001b[0;32m     75\u001b[0m         \u001b[38;5;124mf\u001b[39m\u001b[38;5;124m\"\u001b[39m\u001b[38;5;132;01m{\u001b[39;00merror_msgs\u001b[38;5;132;01m}\u001b[39;00m\u001b[38;5;124m\"\u001b[39m\n\u001b[0;32m     76\u001b[0m     )\n\u001b[0;32m     78\u001b[0m \u001b[38;5;28;01mif\u001b[39;00m engine \u001b[38;5;241m==\u001b[39m \u001b[38;5;124m\"\u001b[39m\u001b[38;5;124mpyarrow\u001b[39m\u001b[38;5;124m\"\u001b[39m:\n\u001b[0;32m     79\u001b[0m     \u001b[38;5;28;01mreturn\u001b[39;00m PyArrowImpl()\n",
      "\u001b[1;31mImportError\u001b[0m: Unable to find a usable engine; tried using: 'pyarrow', 'fastparquet'.\nA suitable version of pyarrow or fastparquet is required for parquet support.\nTrying to import the above resulted in these errors:\n - Missing optional dependency 'pyarrow'. pyarrow is required for parquet support. Use pip or conda to install pyarrow.\n - Missing optional dependency 'fastparquet'. fastparquet is required for parquet support. Use pip or conda to install fastparquet."
     ]
    }
   ],
   "source": [
    "import boto3\n",
    "from botocore.exceptions import NoCredentialsError\n",
    "\n",
    "# Paramètres MinIO\n",
    "MINIO_ENDPOINT = \"localhost:9000\"\n",
    "MINIO_ACCESS_KEY = \"minioadmin\"      # par défaut, adapte si changé\n",
    "MINIO_SECRET_KEY = \"minioadmin\"\n",
    "MINIO_BUCKET = \"fiscal-data\"\n",
    "\n",
    "# Sauvegarde locale parquet\n",
    "parquet_file = \"data/anomalies.parquet\"\n",
    "df_stg.to_parquet(parquet_file, index=False)\n",
    "print(f\"[✅] Fichier parquet sauvegardé localement : {parquet_file}\")\n",
    "\n",
    "# Connexion S3 compatible MinIO\n",
    "s3_client = boto3.client(\n",
    "    's3',\n",
    "    endpoint_url=f\"http://{MINIO_ENDPOINT}\",\n",
    "    aws_access_key_id=MINIO_ACCESS_KEY,\n",
    "    aws_secret_access_key=MINIO_SECRET_KEY,\n",
    "    region_name='us-east-1',  # région par défaut, pas utilisée par MinIO\n",
    ")\n",
    "\n",
    "# Vérifier que le bucket existe, sinon le créer\n",
    "buckets = [bucket['Name'] for bucket in s3_client.list_buckets()['Buckets']]\n",
    "if MINIO_BUCKET not in buckets:\n",
    "    s3_client.create_bucket(Bucket=MINIO_BUCKET)\n",
    "    print(f\"[✅] Bucket '{MINIO_BUCKET}' créé sur MinIO\")\n",
    "\n",
    "# Upload fichier parquet\n",
    "try:\n",
    "    s3_client.upload_file(parquet_file, MINIO_BUCKET, \"anomalies.parquet\")\n",
    "    print(f\"[✅] Fichier '{parquet_file}' uploadé sur MinIO dans le bucket '{MINIO_BUCKET}'\")\n",
    "except NoCredentialsError:\n",
    "    print(\"Erreur : Credentials MinIO invalides ou manquants\")\n"
   ]
  },
  {
   "cell_type": "code",
   "execution_count": 46,
   "id": "8b292648",
   "metadata": {},
   "outputs": [
    {
     "name": "stdout",
     "output_type": "stream",
     "text": [
      "Collecting boto3\n",
      "  Using cached boto3-1.39.17-py3-none-any.whl (139 kB)\n",
      "Collecting botocore<1.40.0,>=1.39.17\n",
      "  Using cached botocore-1.39.17-py3-none-any.whl (13.9 MB)\n",
      "Collecting s3transfer<0.14.0,>=0.13.0\n",
      "  Using cached s3transfer-0.13.1-py3-none-any.whl (85 kB)\n",
      "Collecting jmespath<2.0.0,>=0.7.1\n",
      "  Using cached jmespath-1.0.1-py3-none-any.whl (20 kB)\n",
      "Requirement already satisfied: python-dateutil<3.0.0,>=2.1 in c:\\users\\poatan\\desktop\\détection d’anomalies dans les données d’impôts\\virtual\\lib\\site-packages (from botocore<1.40.0,>=1.39.17->boto3) (2.9.0.post0)\n",
      "Collecting urllib3!=2.2.0,<3,>=1.25.4\n",
      "  Using cached urllib3-2.5.0-py3-none-any.whl (129 kB)\n",
      "Requirement already satisfied: six>=1.5 in c:\\users\\poatan\\desktop\\détection d’anomalies dans les données d’impôts\\virtual\\lib\\site-packages (from python-dateutil<3.0.0,>=2.1->botocore<1.40.0,>=1.39.17->boto3) (1.17.0)\n",
      "Installing collected packages: urllib3, jmespath, botocore, s3transfer, boto3\n",
      "Successfully installed boto3-1.39.17 botocore-1.39.17 jmespath-1.0.1 s3transfer-0.13.1 urllib3-2.5.0\n"
     ]
    },
    {
     "name": "stderr",
     "output_type": "stream",
     "text": [
      "\n",
      "[notice] A new release of pip available: 22.3.1 -> 25.2\n",
      "[notice] To update, run: python.exe -m pip install --upgrade pip\n"
     ]
    }
   ],
   "source": [
    "!pip install boto3"
   ]
  }
 ],
 "metadata": {
  "kernelspec": {
   "display_name": "virtual",
   "language": "python",
   "name": "python3"
  },
  "language_info": {
   "codemirror_mode": {
    "name": "ipython",
    "version": 3
   },
   "file_extension": ".py",
   "mimetype": "text/x-python",
   "name": "python",
   "nbconvert_exporter": "python",
   "pygments_lexer": "ipython3",
   "version": "3.10.10"
  }
 },
 "nbformat": 4,
 "nbformat_minor": 5
}
